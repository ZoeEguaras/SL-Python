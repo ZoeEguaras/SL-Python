{
 "cells": [
  {
   "cell_type": "markdown",
   "metadata": {},
   "source": [
    "**DESAFIO 9:**\n",
    "\n",
    "Escribir un programa que permita agregar al dataset de mi música favorita, su música\n",
    "favorita. Para esto tener en cuenta que: \n",
    "- deben utilizar la sentencia with; \n",
    "- deben ubicar los archivos originales en una carpeta denominada “claudia_music” y los generados por ustedes en otra carpeta denomina ”<su_nombre>_music“. Por ejemplo:”sofía_music“;\n",
    "- deben comenzar con el archivo trabajado en clase y luego agregar a éste los datos correspondientes a su música; \n",
    "- deben trabajar con ambos formatos y reflexionar si es posible utilizar la opción ”a” en la apertura del archivo.\n",
    "\n",
    "---"
   ]
  },
  {
   "cell_type": "markdown",
   "metadata": {},
   "source": [
    "**TRABAJANDO CON JSON:**"
   ]
  },
  {
   "cell_type": "code",
   "execution_count": 1,
   "metadata": {},
   "outputs": [],
   "source": [
    "from pathlib import Path\n",
    "import json\n",
    "\n",
    "claudia_route_json = Path('claudia_music') / \"musica.json\""
   ]
  },
  {
   "cell_type": "markdown",
   "metadata": {},
   "source": [
    "- Abro el archivo y lo deserializo para agregarle contenido.\n",
    "- Directamente lo guardo en la variable que voy a modificar, en donde voy a ir agregando mis canciones."
   ]
  },
  {
   "cell_type": "code",
   "execution_count": 2,
   "metadata": {},
   "outputs": [],
   "source": [
    "with open(claudia_route_json, \"r\") as claudia_json:\n",
    "    claudia_and_zoe_music = json.load(claudia_json)"
   ]
  },
  {
   "cell_type": "markdown",
   "metadata": {},
   "source": [
    "- Se me ocurrió crear un Menú para poder cargar todas las canciones que quiera.\n",
    "- La función .new_artist_json() carga los datos en un diccionario según el formato adecuado."
   ]
  },
  {
   "cell_type": "code",
   "execution_count": 3,
   "metadata": {},
   "outputs": [
    {
     "name": "stdout",
     "output_type": "stream",
     "text": [
      "--------- MENU ---------\n",
      "1. Cargar artista.\n",
      "2. Salir\n",
      "{'nombre': 'Oasis', 'es_solista': False, 'ciudad': 'Mánchester', 'pais': 'Reino Unido', 'ref': 'https://open.spotify.com/intl-es/artist/2DaxqgrOhkeH0fpeiQq2f4?si=1Zr8ZlN2RTCiaIpPoUYuiA'}\n",
      "--------- MENU ---------\n",
      "1. Cargar artista.\n",
      "2. Salir\n",
      "{'nombre': 'Eminem', 'es_solista': False, 'ciudad': 'St. Joseph, Misuri', 'pais': 'Estados Unidos', 'ref': 'https://open.spotify.com/intl-es/artist/7dGJo4pcD2V6oG8kP0tJRR?si=VTDalqMVTvqqSJsMu7a4dw'}\n",
      "--------- MENU ---------\n",
      "1. Cargar artista.\n",
      "2. Salir\n",
      "{'nombre': 'Sui Generis', 'es_solista': False, 'ciudad': 'Buenos Aires', 'pais': 'Argentina', 'ref': 'https://open.spotify.com/intl-es/artist/5lCqW8vcd4TyTHzGIuKdH8?si=tywbdOV-SCGVPjCFCkRGZQ'}\n",
      "--------- MENU ---------\n",
      "1. Cargar artista.\n",
      "2. Salir\n"
     ]
    }
   ],
   "source": [
    "from Módulo import functions\n",
    "\n",
    "while True:\n",
    "    print(\"--------- MENU ---------\")\n",
    "    print(\"1. Cargar artista.\")\n",
    "    print(\"2. Salir\")\n",
    "    option = input()\n",
    "    match option:\n",
    "        case '1': claudia_and_zoe_music.append(functions.new_artist_json())\n",
    "        case '2': break\n",
    "        case _: print(\"Opción inválida, intente de nuevo.\")"
   ]
  },
  {
   "cell_type": "markdown",
   "metadata": {},
   "source": [
    "- Una vez cargadas las canciones creo un nuevo archivo y lo guardo en la carpeta zoe_music."
   ]
  },
  {
   "cell_type": "code",
   "execution_count": 4,
   "metadata": {},
   "outputs": [],
   "source": [
    "zoe_route_json = Path('zoe_music') / \"musica.json\"\n",
    "\n",
    "with open(zoe_route_json, \"w\") as zoe_json:\n",
    "    json.dump(claudia_and_zoe_music, zoe_json, indent= 4)"
   ]
  },
  {
   "cell_type": "markdown",
   "metadata": {},
   "source": [
    "---\n",
    "\n",
    "**TRABAJANDO CON CSV:**"
   ]
  },
  {
   "cell_type": "markdown",
   "metadata": {},
   "source": [
    "- En el caso de csv decidí trabajar de la misma manera.\n",
    "- En vez de usar .new_artist_json() uso .new_artist_csv() que me devuelve una lista con los datos en el orden correcto."
   ]
  },
  {
   "cell_type": "code",
   "execution_count": 5,
   "metadata": {},
   "outputs": [
    {
     "name": "stdout",
     "output_type": "stream",
     "text": [
      "--------- MENU ---------\n",
      "1. Cargar artista.\n",
      "2. Salir\n",
      "['The Smiths', False, 'Mánchester', 'Reino Unido', 'https://open.spotify.com/intl-es/artist/3yY2gUcIsjMr8hjo51PoJ8?si=DoERbRAAQLu_5vUuVbCH2Q']\n",
      "--------- MENU ---------\n",
      "1. Cargar artista.\n",
      "2. Salir\n",
      "Opción inválida, intente de nuevo.\n",
      "--------- MENU ---------\n",
      "1. Cargar artista.\n",
      "2. Salir\n",
      "['Placebo', False, 'Londres', 'Reino Unido', 'https://open.spotify.com/intl-es/artist/6RZUqkomCmb8zCRqc9eznB?si=UEi5OaXLSLWCvFOOjjSUKA']\n",
      "--------- MENU ---------\n",
      "1. Cargar artista.\n",
      "2. Salir\n",
      "['Ataque 77', False, 'Buenos Aires', 'Argentina', 'https://open.spotify.com/intl-es/artist/5rI6C5mJm6GYXbGHhpHTu9?si=cJgdomcJT9GfbLq_zSKA3g']\n",
      "--------- MENU ---------\n",
      "1. Cargar artista.\n",
      "2. Salir\n"
     ]
    }
   ],
   "source": [
    "import csv\n",
    "\n",
    "claudia_route_csv = Path('claudia_music') / \"musica.csv\"\n",
    "\n",
    "with open(claudia_route_csv, \"r\") as claudia_csv:\n",
    "    claudia_and_zoe_music_csv = list(csv.reader(claudia_csv, delimiter=','))\n",
    "\n",
    "while True:\n",
    "    print(\"--------- MENU ---------\")\n",
    "    print(\"1. Cargar artista.\")\n",
    "    print(\"2. Salir\")\n",
    "    option = input()\n",
    "    match option:\n",
    "        case '1': claudia_and_zoe_music_csv.append(functions.new_artist_csv())\n",
    "        case '2': break\n",
    "        case _: print(\"Opción inválida, intente de nuevo.\")"
   ]
  },
  {
   "cell_type": "markdown",
   "metadata": {},
   "source": [
    "- Para finalizar creo un nuevo archivo y guardo la información con los datos agregados."
   ]
  },
  {
   "cell_type": "code",
   "execution_count": 6,
   "metadata": {},
   "outputs": [],
   "source": [
    "zoe_route_csv = Path('zoe_music') / \"musica.csv\"\n",
    "\n",
    "with open(zoe_route_csv, \"w\") as zoe_csv:\n",
    "    csv_writer = csv.writer(zoe_csv)\n",
    "    csv_writer.writerows(claudia_and_zoe_music_csv)"
   ]
  },
  {
   "cell_type": "markdown",
   "metadata": {},
   "source": [
    "---\n",
    "\n",
    "**SOBRE EL MODO DE APERTURA \"A\":**\n",
    "- Personalmente decidí no usarlo porque tengo entendido que eso me modificaría los datos de musica.json y musica.csv de la carpeta claudia_music. A lo mejor existe una manera de generar una copia y sobre ella agregar los datos, pero de lo contrario no se me ocurrió cómo utilizar ese modo sin modificar el contenido original."
   ]
  }
 ],
 "metadata": {
  "kernelspec": {
   "display_name": "venv",
   "language": "python",
   "name": "python3"
  },
  "language_info": {
   "codemirror_mode": {
    "name": "ipython",
    "version": 3
   },
   "file_extension": ".py",
   "mimetype": "text/x-python",
   "name": "python",
   "nbconvert_exporter": "python",
   "pygments_lexer": "ipython3",
   "version": "3.11.2"
  }
 },
 "nbformat": 4,
 "nbformat_minor": 2
}
