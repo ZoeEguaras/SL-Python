{
 "cells": [
  {
   "cell_type": "markdown",
   "metadata": {},
   "source": [
    "**DESAFIO 1:**\n",
    "\n",
    "Estamos armando un curso y queremos modelar con clases los distintos recursos con los que vamos a trabajar. Cada recurso tiene un nombre, la URL donde está publicado, un tipo (para indicar si se encuentra en formato PDF, jupyter o video) y la fecha de su última modificación.\n",
    "- Crear la clase para trabajar con estos datos.\n",
    "\n",
    "**¿Qué debemos pensar?**\n",
    "- ¿Qué variables de instancia tiene un recurso?¿Tiene variables de instancia con valores opcionales?\n",
    "- ¿Cuál es el comportamiento? ¿Cuáles son los métodos asociados?\n"
   ]
  },
  {
   "cell_type": "code",
   "execution_count": 1,
   "metadata": {},
   "outputs": [],
   "source": [
    "# Solución\n",
    "import datetime\n",
    "\n",
    "class Resource:\n",
    "\n",
    "    def __init__ (self, url, name='Untitled'):\n",
    "        self._name = name\n",
    "        self._url = url\n",
    "        self._type = 'PDF'\n",
    "        self._last_modification = datetime.datetime.now()\n",
    "    \n",
    "    def set_name (self, name):\n",
    "        self._name = name\n",
    "        self._last_modification = datetime.datetime.now()\n",
    "\n",
    "    def get_name (self):\n",
    "        return self._name\n",
    "\n",
    "    def set_url (self, url):\n",
    "        self._url = url\n",
    "        self._last_modification = datetime.datetime.now()\n",
    "    \n",
    "    def get_url (self):\n",
    "        return self._url\n",
    "\n",
    "    def set_type_to_PDF (self):\n",
    "        self._type = 'PDF'\n",
    "        self._last_modification = datetime.datetime.now()\n",
    "\n",
    "    def set_type_to_jupyter (self):\n",
    "        self._type = 'jupyter'\n",
    "        self._last_modification = datetime.datetime.now()\n",
    "    \n",
    "    def set_type_to_video (self):\n",
    "        self._type = 'video'\n",
    "        self._last_modification = datetime.datetime.now()\n",
    "    \n",
    "    def get_type (self):\n",
    "        return self._type\n",
    "    \n",
    "    def __str__ (self):\n",
    "        return f'\"{self._name}\" - ({self._type})\\n{self._url}\\nÚltima modificación: {self._last_modification}'"
   ]
  },
  {
   "cell_type": "markdown",
   "metadata": {},
   "source": [
    "Probando la Clase..."
   ]
  },
  {
   "cell_type": "code",
   "execution_count": 2,
   "metadata": {},
   "outputs": [
    {
     "name": "stdout",
     "output_type": "stream",
     "text": [
      "\"Conceptos básicos de la programación orientada a objetos.\" - (PDF)\n",
      "https://archivos.linti.unlp.edu.ar/index.php/s/PGAhsXuGBLHgEyT\n",
      "Última modificación: 2024-05-06 23:00:41.996060\n"
     ]
    }
   ],
   "source": [
    "resource = Resource('https://archivos.linti.unlp.edu.ar/index.php/s/PGAhsXuGBLHgEyT', 'Conceptos básicos de la programación orientada a objetos.')\n",
    "resource.set_type_to_PDF\n",
    "print(resource)"
   ]
  },
  {
   "cell_type": "code",
   "execution_count": 4,
   "metadata": {},
   "outputs": [
    {
     "name": "stdout",
     "output_type": "stream",
     "text": [
      "\"POO: Conceptos básicos.\" - (PDF)\n",
      "https://archivos.linti.unlp.edu.ar/index.php/s/PGAhsXuGBLHgEyT\n",
      "Última modificación: 2024-05-06 23:03:12.973188\n"
     ]
    }
   ],
   "source": [
    "resource.set_name('POO: Conceptos básicos.')\n",
    "print(resource)"
   ]
  }
 ],
 "metadata": {
  "kernelspec": {
   "display_name": "Python 3",
   "language": "python",
   "name": "python3"
  },
  "language_info": {
   "codemirror_mode": {
    "name": "ipython",
    "version": 3
   },
   "file_extension": ".py",
   "mimetype": "text/x-python",
   "name": "python",
   "nbconvert_exporter": "python",
   "pygments_lexer": "ipython3",
   "version": "3.11.2"
  }
 },
 "nbformat": 4,
 "nbformat_minor": 2
}
