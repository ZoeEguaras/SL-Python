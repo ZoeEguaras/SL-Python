{
 "cells": [
  {
   "cell_type": "markdown",
   "metadata": {},
   "source": [
    "**2.** Indique la palabra con más de 4 caracteres que aparece mayor cantidad de veces en el texto del README.md de numpy. Copie y pegue el texto en una variable.\n",
    "Recordemos algunas funciones de string:\n",
    "- .lower\n",
    "- .split\n",
    "\n",
    "Investigue el módulo <u>Counter</u> para simplificar la resolución.\n"
   ]
  },
  {
   "cell_type": "code",
   "execution_count": 1,
   "metadata": {},
   "outputs": [],
   "source": [
    "texto_numpy = \"\"\"NumPy is the fundamental package for scientific computing with Python.\n",
    "\n",
    "Website: https://www.numpy.org\n",
    "Documentation: https://numpy.org/doc\n",
    "Mailing list: https://mail.python.org/mailman/listinfo/numpy-discussion\n",
    "Source code: https://github.com/numpy/numpy\n",
    "Contributing: https://www.numpy.org/devdocs/dev/index.html\n",
    "Bug reports: https://github.com/numpy/numpy/issues\n",
    "Report a security vulnerability: https://tidelift.com/docs/security\n",
    "It provides:\n",
    "\n",
    "a powerful N-dimensional array object\n",
    "sophisticated (broadcasting) functions\n",
    "tools for integrating C/C++ and Fortran code\n",
    "useful linear algebra, Fourier transform, and random number capabilities\n",
    "Testing:\n",
    "\n",
    "NumPy requires pytest and hypothesis. Tests can then be run after installation with:\n",
    "\n",
    "python -c \"import numpy, sys; sys.exit(numpy.test() is False)\"\n",
    "Code of Conduct\n",
    "NumPy is a community-driven open source project developed by a diverse group of contributors. The NumPy leadership has made a strong commitment to creating an open, inclusive, and positive community. Please read the NumPy Code of Conduct for guidance on how to interact with others in a way that makes our community thrive.\n",
    "\n",
    "Call for Contributions\n",
    "The NumPy project welcomes your expertise and enthusiasm!\n",
    "\n",
    "Small improvements or fixes are always appreciated. If you are considering larger contributions to the source code, please contact us through the mailing list first.\n",
    "\n",
    "Writing code isn’t the only way to contribute to NumPy. You can also:\n",
    "\n",
    "review pull requests\n",
    "help us stay on top of new and old issues\n",
    "develop tutorials, presentations, and other educational materials\n",
    "maintain and improve our website\n",
    "develop graphic design for our brand assets and promotional materials\n",
    "translate website content\n",
    "help with outreach and onboard new contributors\n",
    "write grant proposals and help with other fundraising efforts\n",
    "For more information about the ways you can contribute to NumPy, visit our website. If you’re unsure where to start or how your skills fit in, reach out! You can ask on the mailing list or here, on GitHub, by opening a new issue or leaving a comment on a relevant issue that is already open.\n",
    "\n",
    "Our preferred channels of communication are all public, but if you’d like to speak to us in private first, contact our community coordinators at numpy-team@googlegroups.com or on Slack (write numpy-team@googlegroups.com for an invitation).\n",
    "\n",
    "We also have a biweekly community call, details of which are announced on the mailing list. You are very welcome to join.\n",
    "\n",
    "If you are new to contributing to open source, this guide helps explain why, what, and how to successfully get involved.\"\"\""
   ]
  },
  {
   "cell_type": "markdown",
   "metadata": {},
   "source": [
    "Separo el texto en palabras y elimino los signos de puntuación. Los simbolos '/', '-' y '.' los reemplazo por espacios para también considerar las palabras incluidas en los links y las palabras compuestas por separado."
   ]
  },
  {
   "cell_type": "code",
   "execution_count": 2,
   "metadata": {},
   "outputs": [],
   "source": [
    "palabras_numpy = texto_numpy.replace(',', '').replace('.',' ').replace(':', '').replace('/', ' ').replace('-', ' ')\n",
    "palabras_numpy = palabras_numpy.split()\n"
   ]
  },
  {
   "cell_type": "markdown",
   "metadata": {},
   "source": [
    "Creo un diccionario para contar la cantidad de veces que aparece cada palabra de más de 4 letras. Para ello comparo las palabras usando lower, para no distinguir por mayúsculas."
   ]
  },
  {
   "cell_type": "code",
   "execution_count": 3,
   "metadata": {},
   "outputs": [],
   "source": [
    "contador = {}\n",
    "\n",
    "for palabra in palabras_numpy:\n",
    "    if (len(palabra) >= 4):\n",
    "        if (palabra.lower()) in contador:\n",
    "            contador[palabra.lower()] += 1\n",
    "        else:\n",
    "            contador[palabra.lower()] = 1"
   ]
  },
  {
   "cell_type": "markdown",
   "metadata": {},
   "source": [
    "Busco en el diccionario cual es la palabra que apareció más veces."
   ]
  },
  {
   "cell_type": "code",
   "execution_count": 4,
   "metadata": {},
   "outputs": [
    {
     "name": "stdout",
     "output_type": "stream",
     "text": [
      "Palabra: numpy\n",
      "Cantidad de apariciones: 19\n"
     ]
    }
   ],
   "source": [
    "maximo = 0\n",
    "for palabra in contador:\n",
    "    if (contador[palabra] > maximo):\n",
    "        maximo = contador[palabra]\n",
    "        palabra_max = palabra\n",
    "\n",
    "print(f'Palabra: {palabra_max}')\n",
    "print(f'Cantidad de apariciones: {contador[palabra_max]}')"
   ]
  },
  {
   "cell_type": "markdown",
   "metadata": {},
   "source": [
    "**Implementado con Counter:**"
   ]
  },
  {
   "cell_type": "code",
   "execution_count": 5,
   "metadata": {},
   "outputs": [
    {
     "name": "stdout",
     "output_type": "stream",
     "text": [
      "Palabra: numpy\n",
      "Cantidad de apariciones: 19\n"
     ]
    }
   ],
   "source": [
    "from collections import Counter\n",
    "\n",
    "contador = Counter()\n",
    "\n",
    "for palabra in palabras_numpy:\n",
    "    if (len(palabra) >= 4):\n",
    "        contador[palabra.lower()] += 1\n",
    "    \n",
    "print(f'Palabra: {contador.most_common(1)[0][0]}')\n",
    "print(f'Cantidad de apariciones: {contador.most_common(1)[0][1]}')"
   ]
  }
 ],
 "metadata": {
  "kernelspec": {
   "display_name": "venv",
   "language": "python",
   "name": "python3"
  },
  "language_info": {
   "codemirror_mode": {
    "name": "ipython",
    "version": 3
   },
   "file_extension": ".py",
   "mimetype": "text/x-python",
   "name": "python",
   "nbconvert_exporter": "python",
   "pygments_lexer": "ipython3",
   "version": "3.11.2"
  }
 },
 "nbformat": 4,
 "nbformat_minor": 2
}
