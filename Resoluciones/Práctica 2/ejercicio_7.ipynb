{
 "cells": [
  {
   "cell_type": "markdown",
   "metadata": {},
   "source": [
    "**7.** Dada una frase contar mayúsculas, minúsculas, caracteres no letras y la cantidad de palabras sin distinguir entre mayúsculas minúsculas. "
   ]
  },
  {
   "cell_type": "code",
   "execution_count": 19,
   "metadata": {},
   "outputs": [],
   "source": [
    "text = \"\"\" La brecha salarial alcanzó el 27,7%: las mujeres ocupadas \n",
    "debieron trabajar 8 días y 10 horas más que los varones ocupados para \n",
    "ganar lo mismo que ellos en un mes. \"\"\""
   ]
  },
  {
   "cell_type": "markdown",
   "metadata": {},
   "source": [
    "Utilizo el módulo string para crear strings con cada subgrupo y creo un diccionario para contar cada elemento."
   ]
  },
  {
   "cell_type": "code",
   "execution_count": 20,
   "metadata": {},
   "outputs": [],
   "source": [
    "import string\n",
    "\n",
    "mayusculas = string.ascii_uppercase\n",
    "minusculas = string.ascii_lowercase\n",
    "especiales = string.punctuation + string.digits\n",
    "\n",
    "elementos = {'mayus' : 0,\n",
    "             'minus' : 0,\n",
    "             'esp' : 0,\n",
    "             'palabras' : 0}"
   ]
  },
  {
   "cell_type": "markdown",
   "metadata": {},
   "source": [
    "Divido el texto en palabras y comienzo el conteo caracter a caracter. Además primero chequeo si los strings son palabras."
   ]
  },
  {
   "cell_type": "code",
   "execution_count": 21,
   "metadata": {},
   "outputs": [
    {
     "name": "stdout",
     "output_type": "stream",
     "text": [
      "Mayúsculas: 1\n",
      "Minúsculas: 120\n",
      "Caracteres no letras: 10\n",
      "Palabras: 26\n"
     ]
    }
   ],
   "source": [
    "text = text.split()\n",
    "\n",
    "for palabra in text:\n",
    "    if (palabra.isalpha()):\n",
    "        elementos['palabras'] += 1\n",
    "    for letra in palabra:\n",
    "        if letra in mayusculas:\n",
    "            elementos['mayus'] += 1\n",
    "        elif letra in minusculas:\n",
    "            elementos['minus'] += 1\n",
    "        elif letra in especiales:\n",
    "            elementos['esp'] += 1\n",
    "\n",
    "print(f'Mayúsculas: {elementos[\"mayus\"]}')\n",
    "print(f'Minúsculas: {elementos[\"minus\"]}')\n",
    "print(f'Caracteres no letras: {elementos[\"esp\"]}')\n",
    "print(f'Palabras: {elementos[\"palabras\"]}')"
   ]
  }
 ],
 "metadata": {
  "kernelspec": {
   "display_name": "venv",
   "language": "python",
   "name": "python3"
  },
  "language_info": {
   "codemirror_mode": {
    "name": "ipython",
    "version": 3
   },
   "file_extension": ".py",
   "mimetype": "text/x-python",
   "name": "python",
   "nbconvert_exporter": "python",
   "pygments_lexer": "ipython3",
   "version": "3.11.2"
  }
 },
 "nbformat": 4,
 "nbformat_minor": 2
}
