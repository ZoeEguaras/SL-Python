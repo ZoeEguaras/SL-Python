{
 "cells": [
  {
   "cell_type": "markdown",
   "metadata": {},
   "source": [
    "**3.** Dado el siguiente texto guardado en la varible jupyter_info, solicite por teclado una letra e imprima las palabras que contengan dicha letra. En caso que no se haya ingresado un letra, indique el error. Ver: módulo string."
   ]
  },
  {
   "cell_type": "code",
   "execution_count": 5,
   "metadata": {},
   "outputs": [],
   "source": [
    "jupyter_info = \"\"\" JupyterLab is a web-based interactive development \n",
    "environment for Jupyter notebooks, code, and data. JupyterLab is \n",
    "flexible: configure and arrange the user interface to support a wide \n",
    "range of workflows in data science, scientific computing, and machine \n",
    "learning. JupyterLab is extensible and modular: write plugins that add\n",
    "new components and integrate with existing ones. \"\"\""
   ]
  },
  {
   "cell_type": "markdown",
   "metadata": {},
   "source": [
    "Solicito la letra y la chequeo usando len() y el string de 'string' que contiene todas las letras."
   ]
  },
  {
   "cell_type": "code",
   "execution_count": 6,
   "metadata": {},
   "outputs": [],
   "source": [
    "import string\n",
    "\n",
    "letras = string.ascii_letters\n",
    "\n",
    "while True:\n",
    "    letra = input('Ingrese una letra: ').lower()\n",
    "    if (len(letra) == 1 and letra in letras):\n",
    "        break\n",
    "    else:\n",
    "        print('No has ingresado una letra. Intenta de nuevo.')"
   ]
  },
  {
   "cell_type": "markdown",
   "metadata": {},
   "source": [
    "Divido el texto en palabras, elimino los caracteres especiales y almaceno todas las palabras a imprimir en una lista para no mostrar dos veces las repetidas."
   ]
  },
  {
   "cell_type": "code",
   "execution_count": 7,
   "metadata": {},
   "outputs": [],
   "source": [
    "jupyter_palabras = jupyter_info.replace('.', '').replace(',', '').replace(':', '').split()\n",
    "imprimir = []\n",
    "\n",
    "for palabra in jupyter_palabras:\n",
    "    if (letra in palabra.lower()) and (palabra.lower() not in imprimir):\n",
    "        imprimir.append(palabra.lower())"
   ]
  },
  {
   "cell_type": "markdown",
   "metadata": {},
   "source": [
    "Recorro la lista e imprimo las palabras."
   ]
  },
  {
   "cell_type": "code",
   "execution_count": 8,
   "metadata": {},
   "outputs": [
    {
     "name": "stdout",
     "output_type": "stream",
     "text": [
      "Las palabras que contienen la letra e son: \n",
      "- jupyterlab\n",
      "- web-based\n",
      "- interactive\n",
      "- development\n",
      "- environment\n",
      "- jupyter\n",
      "- notebooks\n",
      "- code\n",
      "- flexible\n",
      "- configure\n",
      "- arrange\n",
      "- the\n",
      "- user\n",
      "- interface\n",
      "- wide\n",
      "- range\n",
      "- science\n",
      "- scientific\n",
      "- machine\n",
      "- learning\n",
      "- extensible\n",
      "- write\n",
      "- new\n",
      "- components\n",
      "- integrate\n",
      "- existing\n",
      "- ones\n"
     ]
    }
   ],
   "source": [
    "print(f'Las palabras que contienen la letra {letra} son: ')\n",
    "for palabra in imprimir:\n",
    "    print(f'- {palabra}')"
   ]
  }
 ],
 "metadata": {
  "kernelspec": {
   "display_name": "venv",
   "language": "python",
   "name": "python3"
  },
  "language_info": {
   "codemirror_mode": {
    "name": "ipython",
    "version": 3
   },
   "file_extension": ".py",
   "mimetype": "text/x-python",
   "name": "python",
   "nbconvert_exporter": "python",
   "pygments_lexer": "ipython3",
   "version": "3.11.2"
  }
 },
 "nbformat": 4,
 "nbformat_minor": 2
}
