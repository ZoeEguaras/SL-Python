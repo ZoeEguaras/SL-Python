{
 "cells": [
  {
   "cell_type": "markdown",
   "metadata": {},
   "source": [
    "**9.** Escriba un programa que solicite por teclado una palabra y calcule el valor de la misma dada la siguiente tabla de valores del juego Scrabble:\n",
    "\n",
    "| Letra | valor |\n",
    "|-------|-------|\n",
    "| A, E, I, O, U, L, N, R, S, T | 1 |\n",
    "| D, G | 2 |\n",
    "| B, C, M, P | 3 |\n",
    "| F, H, V, W, Y | 4 |\n",
    "| K | 5 |\n",
    "| J, X | 8 |\n",
    "| Q, Z | 10 |\n",
    "\n",
    "_Tenga en cuenta qué estructura elige para guardar estos valores en Python._\n",
    "\n",
    "**Ejemplo 1**\n",
    "- Palabra: \"solo\"\n",
    "- valor: 4\n",
    " \n",
    "**Ejemplo 2**\n",
    "- Palabra: \"tomate\"\n",
    "- valor: 8"
   ]
  },
  {
   "cell_type": "markdown",
   "metadata": {},
   "source": [
    "Pido el ingreso y almaceno los valores en una lista de tuplas con una lista para las letras y un integer para el valor."
   ]
  },
  {
   "cell_type": "code",
   "execution_count": 7,
   "metadata": {},
   "outputs": [],
   "source": [
    "while True:\n",
    "    palabra = input('Ingrese una palabra: ')\n",
    "    if (palabra.isalpha()):\n",
    "        break\n",
    "    else:\n",
    "        print('No ingresaste una palabra. Intenta de nuevo.')\n",
    "\n",
    "valores = [(['a', 'e', 'i', 'o', 'u', 'l', 'n', 'r', 's', 't'], 1),\n",
    "           (['d', 'g'], 2),\n",
    "           (['b', 'c', 'm', 'p'], 3),\n",
    "           (['f', 'h', 'v', 'w', 'y'], 4),\n",
    "           (['k'], 5),\n",
    "           (['j', 'x'], 8),\n",
    "           (['q', 'z'], 10)]"
   ]
  },
  {
   "cell_type": "markdown",
   "metadata": {},
   "source": [
    "Comparo cada letra con cada elemento de las listas de las tuplas. Cuando encuentro una coincidencia sumo lo que corresponde a esa lista y rompo la iteración."
   ]
  },
  {
   "cell_type": "code",
   "execution_count": 8,
   "metadata": {},
   "outputs": [
    {
     "name": "stdout",
     "output_type": "stream",
     "text": [
      "Palabra: solo\n",
      "Total: 4\n"
     ]
    }
   ],
   "source": [
    "total = 0\n",
    "\n",
    "for letra in palabra.lower():\n",
    "    for elem in valores:\n",
    "        if letra in elem[0]:\n",
    "            total += elem[1]\n",
    "            break\n",
    "\n",
    "print(f'Palabra: {palabra}')\n",
    "print(f'Total: {total}')"
   ]
  }
 ],
 "metadata": {
  "kernelspec": {
   "display_name": "venv",
   "language": "python",
   "name": "python3"
  },
  "language_info": {
   "codemirror_mode": {
    "name": "ipython",
    "version": 3
   },
   "file_extension": ".py",
   "mimetype": "text/x-python",
   "name": "python",
   "nbconvert_exporter": "python",
   "pygments_lexer": "ipython3",
   "version": "3.11.2"
  }
 },
 "nbformat": 4,
 "nbformat_minor": 2
}
