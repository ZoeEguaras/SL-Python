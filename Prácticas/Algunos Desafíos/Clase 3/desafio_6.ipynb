{
 "cells": [
  {
   "cell_type": "markdown",
   "metadata": {},
   "source": [
    "**DESAFÍO 6:**\n",
    "\n",
    "Queremos codificar una frase según el siguiente algoritmo:\n",
    "- encripto(\"a\") --> \"b\"\n",
    "- encripto(\"ABC\") --> \"BCD\"\n",
    "- encripto(\"Rock2021\") --> \"Spdl3132\"\n",
    "\n",
    "Una explicación simple de la Wikipedia: [Cifrado César](https://es.wikipedia.org/wiki/Cifrado_C%C3%A9sar#:~:text=El%20cifrado%20C%C3%A9sar%20mueve%20cada,de%20espacios%20en%20el%20alfabeto.&text=Es%20un%20tipo%20de%20cifrado,m%C3%A1s%20adelante%20en%20el%20alfabeto. \"Title\").\n",
    "- Escribir dos versiones de la solución: una sin usar lambda y otra usando.\n",
    "\n",
    "---"
   ]
  },
  {
   "cell_type": "markdown",
   "metadata": {},
   "source": [
    "Sin utilizar lambda implemento una función y con una iteración for se la aplico a cada elemento de la cadena."
   ]
  },
  {
   "cell_type": "code",
   "execution_count": 1,
   "metadata": {},
   "outputs": [
    {
     "name": "stdout",
     "output_type": "stream",
     "text": [
      "Resultado: Qzuipo3135\n"
     ]
    }
   ],
   "source": [
    "def codificar (car):\n",
    "    \"\"\" Esta funcion recibe un caracter y devuelve su siguiente en la secuencia ASCII \"\"\"\n",
    "    car = chr(ord(car) + 1)\n",
    "    return car\n",
    "\n",
    "cadena = input(\"Ingrese una frase a codificar: \")\n",
    "\n",
    "nueva_cadena = \"\"\n",
    "for car in cadena:\n",
    "    nueva_cadena += codificar(car)\n",
    "\n",
    "print(f\"Resultado: {nueva_cadena}\")"
   ]
  },
  {
   "cell_type": "markdown",
   "metadata": {},
   "source": [
    "Si utilizo lambda no es necesario definir la función y puedo aplicarla a cada elemento de la cadena con la función map."
   ]
  },
  {
   "cell_type": "code",
   "execution_count": 2,
   "metadata": {},
   "outputs": [
    {
     "name": "stdout",
     "output_type": "stream",
     "text": [
      "Resultado: Qzuipo3135\n"
     ]
    }
   ],
   "source": [
    "cadena = input(\"Ingrese una frase a codificar: \")\n",
    "\n",
    "nueva_cadena = \"\".join(map(lambda car: chr(ord(car) + 1), cadena))\n",
    "\n",
    "print(f\"Resultado: {nueva_cadena}\")"
   ]
  },
  {
   "cell_type": "markdown",
   "metadata": {},
   "source": [
    "**NOTA:** Probé ingresando \"Python2024\"."
   ]
  }
 ],
 "metadata": {
  "kernelspec": {
   "display_name": "venv",
   "language": "python",
   "name": "python3"
  },
  "language_info": {
   "codemirror_mode": {
    "name": "ipython",
    "version": 3
   },
   "file_extension": ".py",
   "mimetype": "text/x-python",
   "name": "python",
   "nbconvert_exporter": "python",
   "pygments_lexer": "ipython3",
   "version": "3.11.2"
  }
 },
 "nbformat": 4,
 "nbformat_minor": 2
}
