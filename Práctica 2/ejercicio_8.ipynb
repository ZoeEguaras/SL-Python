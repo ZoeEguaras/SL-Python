{
 "cells": [
  {
   "cell_type": "markdown",
   "metadata": {},
   "source": [
    "**8.** Escriba un programa que solicite que se ingrese una palabra o frase y permita identificar si la misma es un \n",
    "Heterograma (tenga en cuenta que el contenido del enlace es una traducción del inglés por lo cual las palabras que nombra no son heterogramas en español). Un Heterograma es una palabra o frase que no tiene ninguna letra repetida entre sus caracteres.\n",
    "\n",
    "**Tener en cuenta:**\n",
    "- Lo que no se puede repetir en la frase son sólo aquellos caracteres que sean letras.\n",
    "- No se distingue entre mayúsculas y minúsculas, es decir si en la frase o palabra tenemos la letra \"T\" y la letra \"t\" la misma NO será un Hererograma.\n",
    "- Para simplificar el ejercicio vamos a tomar como que las letras con tilde y sin tilde son distintas. Ya que Python las diferencia:\n",
    "\n",
    "**Ejemplos** \n",
    "| Entreda | ¿Heterograma? |\n",
    "|---------|---------------|\n",
    "| cruzamiento | Sí |\n",
    "| centrifugados | Sí |\n",
    "| portón | Sí |\n",
    "| casa | No |\n",
    "| día de sol | No |\n",
    "| con diez uñas | Sí |\n",
    "| no-se-duplica | Sí |"
   ]
  },
  {
   "cell_type": "code",
   "execution_count": 1,
   "metadata": {},
   "outputs": [],
   "source": [
    "entrada = input('Ingrese una frase o una palabra: ')"
   ]
  },
  {
   "cell_type": "markdown",
   "metadata": {},
   "source": [
    "Convierto la entrada en una sola cadena de caracteres eliminando los espacios y la paso a minúscula para contar con mayor facilidad."
   ]
  },
  {
   "cell_type": "code",
   "execution_count": 2,
   "metadata": {},
   "outputs": [],
   "source": [
    "cadena = entrada.replace(' ', '').lower()"
   ]
  },
  {
   "cell_type": "markdown",
   "metadata": {},
   "source": [
    "Importo el módulo counter y el módulo string. Con Counter cuento las veces que aparece cada caracter y con \"letras = string.ascii_letters\" chequeo si son letras."
   ]
  },
  {
   "cell_type": "code",
   "execution_count": 3,
   "metadata": {},
   "outputs": [],
   "source": [
    "from collections import Counter\n",
    "import string\n",
    "\n",
    "letras = string.ascii_letters\n",
    "contador = Counter()\n",
    "\n",
    "for letra in cadena:\n",
    "    if letra in letras:\n",
    "        contador[letra.lower()] += 1\n"
   ]
  },
  {
   "cell_type": "markdown",
   "metadata": {},
   "source": [
    "Reviso cuál es la letra que tuvo la mayor cantidad de apariciones y si es mayor a uno significa que al menos una letra se repite."
   ]
  },
  {
   "cell_type": "code",
   "execution_count": 4,
   "metadata": {},
   "outputs": [
    {
     "name": "stdout",
     "output_type": "stream",
     "text": [
      "\"no-se-duplica\" es un Heterograma.\n"
     ]
    }
   ],
   "source": [
    "if contador.most_common(1)[0][1] > 1:\n",
    "    print(f'\"{entrada}\" no es un Heterograma.')\n",
    "else:\n",
    "    print(f'\"{entrada}\" es un Heterograma.')"
   ]
  }
 ],
 "metadata": {
  "kernelspec": {
   "display_name": "venv",
   "language": "python",
   "name": "python3"
  },
  "language_info": {
   "codemirror_mode": {
    "name": "ipython",
    "version": 3
   },
   "file_extension": ".py",
   "mimetype": "text/x-python",
   "name": "python",
   "nbconvert_exporter": "python",
   "pygments_lexer": "ipython3",
   "version": "3.11.2"
  }
 },
 "nbformat": 4,
 "nbformat_minor": 2
}
