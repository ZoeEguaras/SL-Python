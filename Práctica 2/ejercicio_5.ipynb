{
 "cells": [
  {
   "cell_type": "markdown",
   "metadata": {},
   "source": [
    "**5.** Para la aceptación de un artículo en un congreso se definen las siguientes especificaciones que deben cumplir y recomendaciones de escritura:\n",
    "- título:\n",
    "    - 10 palabras como máximo\n",
    "- cada oración del resumen:\n",
    "    - hasta 12 palabras: fácil de leer\n",
    "    - entre 13-17 palabras: aceptable para leer\n",
    "    - entre 18-25 palabras: difícil de leer\n",
    "    - mas de 25 palabras: muy difícil\n",
    "    \n",
    "Es importante destacar que los números no se consideran palabras al momento del análisis por su facilidad de lectura. Dado un artículo en formato string, defina si cumple las especificaciones del título y cuántas oraciones tiene de cada categoría. El formato estándar en que recibe el string tiene la siguiente forma:"
   ]
  },
  {
   "cell_type": "code",
   "execution_count": 1,
   "metadata": {},
   "outputs": [],
   "source": [
    "article = \"\"\" título: Experiences in Developing a Distributed Agent\n",
    "based Modeling Toolkit with Python Version 3\n",
    "resumen: Distributed agent-based modeling (ABM) on high-performance \n",
    "computing resources provides the promise of capturing unprecedented \n",
    "details of large-scale complex systems. However, the specialized \n",
    "knowledge required for developing such ABMs creates barriers to wider \n",
    "adoption and utilization. Here we present our experiences in \n",
    "developing an initial implementation of Repast4Py, a Python-based \n",
    "distributed ABM toolkit. We build on our experiences in developing ABM\n",
    "toolkits, including Repast for High Performance Computing (Repast \n",
    "HPC), to identify the key elements of a useful distributed ABM \n",
    "toolkit. We leverage the Numba, NumPy, and PyTorch packages and the \n",
    "Python C-API to create a scalable modeling system that can exploit the\n",
    "largest HPC resources and emerging computing architectures.\"\"\""
   ]
  },
  {
   "cell_type": "markdown",
   "metadata": {},
   "source": [
    "En este ejemplo se debe informar:\n",
    "- título: not ok\n",
    "- Cantidad de oraciones fáciles de leer: 1, aceptables para leer: 2, dificil de leer: 1, muy difícil de leer: 2"
   ]
  },
  {
   "cell_type": "markdown",
   "metadata": {},
   "source": [
    "Separo el título, el resumen y el resumen en oraciones. Elimino la oración vacía del final?"
   ]
  },
  {
   "cell_type": "code",
   "execution_count": 2,
   "metadata": {},
   "outputs": [],
   "source": [
    "titulo = article.replace('título: ', '').split('resumen:')[0]\n",
    "resumen = article.replace('\\n', '').split('resumen:')[1].split('.')\n",
    "\n",
    "resumen.remove(resumen[-1])"
   ]
  },
  {
   "cell_type": "markdown",
   "metadata": {},
   "source": [
    "Divido el titulo en palabras y el resumen en palabras por oración."
   ]
  },
  {
   "cell_type": "code",
   "execution_count": 3,
   "metadata": {},
   "outputs": [],
   "source": [
    "titulo = titulo.split()\n",
    "\n",
    "for i in range(len(resumen)):\n",
    "    resumen[i] = resumen[i].split()\n",
    "\n",
    "for oracion in resumen:\n",
    "    for palabra in oracion:\n",
    "        if palabra.isdigit():\n",
    "            oracion.remove(palabra)"
   ]
  },
  {
   "cell_type": "markdown",
   "metadata": {},
   "source": [
    "Cuento y chequeo la cantidad de palabras del titulo."
   ]
  },
  {
   "cell_type": "code",
   "execution_count": 4,
   "metadata": {},
   "outputs": [
    {
     "name": "stdout",
     "output_type": "stream",
     "text": [
      "título: not ok\n"
     ]
    }
   ],
   "source": [
    "if len(titulo) <= 10:\n",
    "    print('título: ok')\n",
    "else:\n",
    "    print('título: not ok')"
   ]
  },
  {
   "cell_type": "markdown",
   "metadata": {},
   "source": [
    "Creo un diccionario para contar cada tipo de oracion y recorro la lista del resumen para completarlo."
   ]
  },
  {
   "cell_type": "code",
   "execution_count": 5,
   "metadata": {},
   "outputs": [],
   "source": [
    "tipos_oraciones = {'fácil': 0,\n",
    "                   'aceptable' : 0,\n",
    "                   'difícil' : 0,\n",
    "                   'muy difícil' : 0\n",
    "                    }\n",
    "\n",
    "for oracion in resumen:\n",
    "    if (len(oracion) <= 12):\n",
    "        tipos_oraciones['fácil'] += 1\n",
    "    elif ((len(oracion) <= 17)):\n",
    "        tipos_oraciones['aceptable'] += 1\n",
    "    elif (len(oracion) <= 25):\n",
    "        tipos_oraciones['difícil'] += 1\n",
    "    else:\n",
    "        tipos_oraciones['muy difícil'] += 1"
   ]
  },
  {
   "cell_type": "markdown",
   "metadata": {},
   "source": [
    "Imprimo la cantidad de oraciones de cada tipo."
   ]
  },
  {
   "cell_type": "code",
   "execution_count": 6,
   "metadata": {},
   "outputs": [
    {
     "name": "stdout",
     "output_type": "stream",
     "text": [
      "Cantidad de oraciones fáciles de leer: 0, aceptables para leer: 2, difíciles para leer: 1, muy difíciles de leer: 2\n"
     ]
    }
   ],
   "source": [
    "print(f\"Cantidad de oraciones fáciles de leer: {tipos_oraciones['fácil']}, aceptables para leer: {tipos_oraciones['aceptable']}, difíciles para leer: {tipos_oraciones['difícil']}, muy difíciles de leer: {tipos_oraciones['muy difícil']}\")"
   ]
  }
 ],
 "metadata": {
  "kernelspec": {
   "display_name": "venv",
   "language": "python",
   "name": "python3"
  },
  "language_info": {
   "codemirror_mode": {
    "name": "ipython",
    "version": 3
   },
   "file_extension": ".py",
   "mimetype": "text/x-python",
   "name": "python",
   "nbconvert_exporter": "python",
   "pygments_lexer": "ipython3",
   "version": "3.11.2"
  }
 },
 "nbformat": 4,
 "nbformat_minor": 2
}
