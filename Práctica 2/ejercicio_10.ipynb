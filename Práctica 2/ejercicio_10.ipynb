{
 "cells": [
  {
   "cell_type": "markdown",
   "metadata": {},
   "source": [
    "**10.** Un club de hockey posee las estadísticas de todxs sus jugadorxs de la última temporada jugada del torneo de hockey mixto. Poseen una lista con los nombres, otra con los goles a favor, otra con los goles evitados y la última con las asistencias realizadas. El club está por otorgar los premios de cierre de temporada y necesita:\n",
    "1. Generar una estructura todas las estadísticas asociadas a cada jugador o jugadora.\n",
    "2. Conocer el nombre y la cantidad de goles del goleador o goleadora.\n",
    "3. Conocer el nombre del jugador o jugadora más influyente, esto se consigue sumando goles a favor, goles evitados y cantidad de asistencias. La particularidad es que los goles a favor, evitados y las asistencias NO valen lo mismo (es un promedio ponderado):\n",
    "\n",
    "| | valor |\n",
    "|-|-------|\n",
    "| goles a favor| 1.5 |\n",
    "| goles en evitados | 1.25 |\n",
    "| asistencias | 1 |\n",
    "\n",
    "4. Conocer el promedio de goles por partido del equipo en general. Dato: Se jugaron 25 partidos en la temporada.\n",
    "5. Conocer el promedio de goles por partido del goleador o goleadora. Dato: Se jugaron 25 partidos en la temporada.\n",
    "\n",
    "**Nota:**\n",
    "- Las 4 estructuras están ordenadas de forma que los elementos en la misma posición corresponden a un mismo jugador o jugadora.\n",
    "- Realizar funciones con cada ítem\n",
    "\n",
    "Código:"
   ]
  },
  {
   "cell_type": "code",
   "execution_count": 237,
   "metadata": {},
   "outputs": [],
   "source": [
    "names = \"\"\" Agustin, Yanina, Andrés, Ariadna, Bautista, CAROLINA, \n",
    "CESAR, David, Diego, Dolores, DYLAN, ELIANA, Emanuel, Fabián, Noelia, \n",
    "Francsica', FEDERICO, Fernanda, GONZALO, Nancy \"\"\"\n",
    "goals = [0, 10, 4, 0, 5, 14, 0, 0, 7, 2, 1, 1, 1, 5, 6, 1, 1, 2, 0, 11]\n",
    "goals_avoided = [0, 2, 0, 0, 5, 2, 0, 0, 1, 2, 0, 5, 5, 0, 1, 0, 2, 3, 0, 0]\n",
    "assists = [0, 5, 1, 0, 5, 2, 0, 0, 1, 2, 1, 5, 5, 0, 1, 0, 2, 3, 1, 0]\n",
    "match_amount = 25"
   ]
  },
  {
   "cell_type": "markdown",
   "metadata": {},
   "source": [
    "Genera la estructura."
   ]
  },
  {
   "cell_type": "code",
   "execution_count": 238,
   "metadata": {},
   "outputs": [
    {
     "name": "stdout",
     "output_type": "stream",
     "text": [
      "{'Agustin': (0, 0, 0), 'Yanina': (10, 2, 5), 'Andrés': (4, 0, 1), 'Ariadna': (0, 0, 0), 'Bautista': (5, 5, 5), 'CAROLINA': (14, 2, 2), 'CESAR': (0, 0, 0), 'David': (0, 0, 0), 'Diego': (7, 1, 1), 'Dolores': (2, 2, 2), 'DYLAN': (1, 0, 1), 'ELIANA': (1, 5, 5), 'Emanuel': (1, 5, 5), 'Fabián': (5, 0, 0), 'Noelia': (6, 1, 1), \"Francsica'\": (1, 0, 0), 'FEDERICO': (1, 2, 2), 'Fernanda': (2, 3, 3), 'GONZALO': (0, 0, 1), 'Nancy': (11, 0, 0)}\n"
     ]
    }
   ],
   "source": [
    "def new_structure (names, goals, goals_avoided, assists):\n",
    "    data = {}\n",
    "    names_list = names.replace('\\n', '').replace(' ', '').split(',')\n",
    "    for i in range(len(names_list)):\n",
    "        data[names_list[i]] = (goals[i], goals_avoided[i], assists[i])\n",
    "    return data\n",
    "\n",
    "data = new_structure(names, goals, goals_avoided, assists)\n",
    "print(data)"
   ]
  },
  {
   "cell_type": "markdown",
   "metadata": {},
   "source": [
    "Retorno al goleador/goleadora."
   ]
  },
  {
   "cell_type": "code",
   "execution_count": 239,
   "metadata": {},
   "outputs": [
    {
     "name": "stdout",
     "output_type": "stream",
     "text": [
      "JUGADOR CON MAYOR NÚMERO DE GOLES:\n",
      "Nombre: CAROLINA\n",
      "Cantidad de Goles: 14\n"
     ]
    }
   ],
   "source": [
    "def max_goals (data):\n",
    "   max_amount = 0\n",
    "   max_player = \"\"\n",
    "   for elem in data:\n",
    "        if data[elem][0] > max_amount:\n",
    "            max_amount = data[elem][0]\n",
    "            max_player = elem\n",
    "   return (max_player, max_amount)\n",
    "\n",
    "player_goals = max_goals(data)\n",
    "print(\"JUGADOR CON MAYOR NÚMERO DE GOLES:\")\n",
    "print(f\"Nombre: {player_goals[0]}\")\n",
    "print(f\"Cantidad de Goles: {player_goals[1]}\")"
   ]
  },
  {
   "cell_type": "markdown",
   "metadata": {},
   "source": [
    "Calculo jugador más influyente."
   ]
  },
  {
   "cell_type": "code",
   "execution_count": 240,
   "metadata": {},
   "outputs": [
    {
     "name": "stdout",
     "output_type": "stream",
     "text": [
      "JUGADOR MÁS INFLUYENTE:\n",
      "Nombre: CAROLINA\n",
      "Puntaje: 25.5\n"
     ]
    }
   ],
   "source": [
    "def most_influent (data):\n",
    "    max_amount = 0\n",
    "    max_player = \"\"\n",
    "    for elem in data:\n",
    "        amount = data[elem][0] * 1.5 + data[elem][1] * 1.25 + data[elem][2] \n",
    "        if amount > max_amount:\n",
    "            max_amount = amount\n",
    "            max_player = elem\n",
    "    return (max_player, max_amount)\n",
    "\n",
    "influent_player = most_influent(data)\n",
    "print(\"JUGADOR MÁS INFLUYENTE:\")\n",
    "print(f\"Nombre: {influent_player[0]}\")\n",
    "print(f\"Puntaje: {influent_player[1]}\")"
   ]
  },
  {
   "cell_type": "markdown",
   "metadata": {},
   "source": [
    "Promedio por partido."
   ]
  },
  {
   "cell_type": "code",
   "execution_count": 241,
   "metadata": {},
   "outputs": [
    {
     "name": "stdout",
     "output_type": "stream",
     "text": [
      "PROMEDIO DE GOLES POR PARTIDO: 2.84\n"
     ]
    }
   ],
   "source": [
    "def match_prom (goals, match_amount):\n",
    "    return sum(goals) / match_amount\n",
    "\n",
    "print(\"PROMEDIO DE GOLES POR PARTIDO:\", match_prom(goals, match_amount))"
   ]
  },
  {
   "cell_type": "markdown",
   "metadata": {},
   "source": [
    "Promedio de goles de jugador por partido."
   ]
  },
  {
   "cell_type": "code",
   "execution_count": 242,
   "metadata": {},
   "outputs": [
    {
     "name": "stdout",
     "output_type": "stream",
     "text": [
      "PROMEDIO DE GOLES POR JUGADOR:\n",
      "Nombre: Agustin\n",
      "Promedio: 0.0\n",
      "Nombre: Yanina\n",
      "Promedio: 0.4\n",
      "Nombre: Andrés\n",
      "Promedio: 0.16\n",
      "Nombre: Ariadna\n",
      "Promedio: 0.0\n",
      "Nombre: Bautista\n",
      "Promedio: 0.2\n",
      "Nombre: CAROLINA\n",
      "Promedio: 0.56\n",
      "Nombre: CESAR\n",
      "Promedio: 0.0\n",
      "Nombre: David\n",
      "Promedio: 0.0\n",
      "Nombre: Diego\n",
      "Promedio: 0.28\n",
      "Nombre: Dolores\n",
      "Promedio: 0.08\n",
      "Nombre: DYLAN\n",
      "Promedio: 0.04\n",
      "Nombre: ELIANA\n",
      "Promedio: 0.04\n",
      "Nombre: Emanuel\n",
      "Promedio: 0.04\n",
      "Nombre: Fabián\n",
      "Promedio: 0.2\n",
      "Nombre: Noelia\n",
      "Promedio: 0.24\n",
      "Nombre: Francsica'\n",
      "Promedio: 0.04\n",
      "Nombre: FEDERICO\n",
      "Promedio: 0.04\n",
      "Nombre: Fernanda\n",
      "Promedio: 0.08\n",
      "Nombre: GONZALO\n",
      "Promedio: 0.0\n",
      "Nombre: Nancy\n",
      "Promedio: 0.44\n"
     ]
    }
   ],
   "source": [
    "def player_prom (data, match_amount):\n",
    "    key = list(data.keys())\n",
    "    value = list(map(lambda info: info[0] / match_amount, data.values()))\n",
    "    player_new_data = dict(zip(key, value))\n",
    "    return player_new_data\n",
    "\n",
    "def player_prom2 (data, match_amount):\n",
    "    new_data = {}\n",
    "    for player in data:\n",
    "        new_data[player] = data[player][0] / match_amount\n",
    "    return new_data\n",
    "\n",
    "def player_prom3 (player_goals, match_amount):\n",
    "    return (player_goals[0], player_goals[1] / match_amount)\n",
    "\n",
    "new_data = player_prom(data, match_amount)\n",
    "print(\"PROMEDIO DE GOLES POR JUGADOR:\")\n",
    "for player in new_data:\n",
    "    print(f\"Nombre: {player}\")\n",
    "    print(f\"Promedio: {new_data[player]}\")"
   ]
  }
 ],
 "metadata": {
  "kernelspec": {
   "display_name": "venv",
   "language": "python",
   "name": "python3"
  },
  "language_info": {
   "codemirror_mode": {
    "name": "ipython",
    "version": 3
   },
   "file_extension": ".py",
   "mimetype": "text/x-python",
   "name": "python",
   "nbconvert_exporter": "python",
   "pygments_lexer": "ipython3",
   "version": "3.11.2"
  }
 },
 "nbformat": 4,
 "nbformat_minor": 2
}
