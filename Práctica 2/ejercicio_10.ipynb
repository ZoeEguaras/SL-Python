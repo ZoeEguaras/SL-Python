{
 "cells": [
  {
   "cell_type": "markdown",
   "metadata": {},
   "source": [
    "**10.** Un club de hockey posee las estadísticas de todxs sus jugadorxs de la última temporada jugada del torneo de hockey mixto. Poseen una lista con los nombres, otra con los goles a favor, otra con los goles evitados y la última con las asistencias realizadas. El club está por otorgar los premios de cierre de temporada y necesita:\n",
    "1. Generar una estructura con todas las estadísticas asociadas a cada jugador o jugadora.\n",
    "2. Conocer el nombre y la cantidad de goles del goleador o goleadora.\n",
    "3. Conocer el nombre del jugador o jugadora más influyente, esto se consigue sumando goles a favor, goles evitados y cantidad de asistencias. La particularidad es que los goles a favor, evitados y las asistencias NO valen lo mismo (es un promedio ponderado):\n",
    "\n",
    "| | valor |\n",
    "|-|-------|\n",
    "| goles a favor| 1.5 |\n",
    "| goles evitados | 1.25 |\n",
    "| asistencias | 1 |\n",
    "\n",
    "4. Conocer el promedio de goles por partido del equipo en general. Dato: Se jugaron 25 partidos en la temporada.\n",
    "5. Conocer el promedio de goles por partido del goleador o goleadora. Dato: Se jugaron 25 partidos en la temporada.\n",
    "\n",
    "**Nota:**\n",
    "- Las 4 estructuras están ordenadas de forma que los elementos en la misma posición corresponden a un mismo jugador o jugadora.\n",
    "- Realizar funciones con cada ítem\n",
    "\n",
    "Código:"
   ]
  },
  {
   "cell_type": "code",
   "execution_count": 107,
   "metadata": {},
   "outputs": [],
   "source": [
    "names = \"\"\" Agustin, Yanina, Andrés, Ariadna, Bautista, CAROLINA, \n",
    "CESAR, David, Diego, Dolores, DYLAN, ELIANA, Emanuel, Fabián, Noelia, \n",
    "Francsica', FEDERICO, Fernanda, GONZALO, Nancy \"\"\"\n",
    "goals = [0, 10, 4, 0, 5, 14, 0, 0, 7, 2, 1, 1, 1, 5, 6, 1, 1, 2, 0, 11]\n",
    "goals_avoided = [0, 2, 0, 0, 5, 2, 0, 0, 1, 2, 0, 5, 5, 0, 1, 0, 2, 3, 0, 0]\n",
    "assists = [0, 5, 1, 0, 5, 2, 0, 0, 1, 2, 1, 5, 5, 0, 1, 0, 2, 3, 1, 0]\n",
    "match_amount = 25"
   ]
  },
  {
   "cell_type": "markdown",
   "metadata": {},
   "source": [
    "Genera la estructura."
   ]
  },
  {
   "cell_type": "code",
   "execution_count": 108,
   "metadata": {},
   "outputs": [
    {
     "name": "stdout",
     "output_type": "stream",
     "text": [
      "{'Agustin': (0, 0, 0), 'Yanina': (10, 2, 5), 'Andrés': (4, 0, 1), 'Ariadna': (0, 0, 0), 'Bautista': (5, 5, 5), 'CAROLINA': (14, 2, 2), 'CESAR': (0, 0, 0), 'David': (0, 0, 0), 'Diego': (7, 1, 1), 'Dolores': (2, 2, 2), 'DYLAN': (1, 0, 1), 'ELIANA': (1, 5, 5), 'Emanuel': (1, 5, 5), 'Fabián': (5, 0, 0), 'Noelia': (6, 1, 1), \"Francsica'\": (1, 0, 0), 'FEDERICO': (1, 2, 2), 'Fernanda': (2, 3, 3), 'GONZALO': (0, 0, 1), 'Nancy': (11, 0, 0)}\n"
     ]
    }
   ],
   "source": [
    "def new_structure (names, goals, goals_avoided, assists):\n",
    "    data = {}\n",
    "    names_list = names.replace('\\n', '').replace(' ', '').split(',')\n",
    "    for i in range(len(names_list)):\n",
    "        data[names_list[i]] = (goals[i], goals_avoided[i], assists[i])\n",
    "    return data\n",
    "\n",
    "data = new_structure(names, goals, goals_avoided, assists)\n",
    "print(data)"
   ]
  },
  {
   "cell_type": "markdown",
   "metadata": {},
   "source": [
    "Retorno al goleador/goleadora."
   ]
  },
  {
   "cell_type": "code",
   "execution_count": 109,
   "metadata": {},
   "outputs": [
    {
     "name": "stdout",
     "output_type": "stream",
     "text": [
      "JUGADOR CON MAYOR NÚMERO DE GOLES:\n",
      "Nombre: CAROLINA\n",
      "Cantidad de Goles: 14\n"
     ]
    }
   ],
   "source": [
    "def max_goals (data):\n",
    "   max_player = max(data, key= lambda p: data[p][0])\n",
    "   max_amount = data[max_player][0];\n",
    "   return max_player, max_amount\n",
    "\n",
    "max_player, max_amount = max_goals(data)\n",
    "print(\"JUGADOR CON MAYOR NÚMERO DE GOLES:\")\n",
    "print(f\"Nombre: {max_player}\")\n",
    "print(f\"Cantidad de Goles: {max_amount}\")"
   ]
  },
  {
   "cell_type": "markdown",
   "metadata": {},
   "source": [
    "Calculo jugador más influyente."
   ]
  },
  {
   "cell_type": "code",
   "execution_count": 110,
   "metadata": {},
   "outputs": [
    {
     "name": "stdout",
     "output_type": "stream",
     "text": [
      "JUGADOR MÁS INFLUYENTE:\n",
      "Nombre: CAROLINA\n"
     ]
    }
   ],
   "source": [
    "def most_influent (data):\n",
    "    score = lambda info: info[0] * 1.5 + info[1] * 1.25 + info[2]\n",
    "    influent_player = max(data, key= lambda p: score(data[p]))\n",
    "    return influent_player\n",
    "\n",
    "influent_player = most_influent(data)\n",
    "print(\"JUGADOR MÁS INFLUYENTE:\")\n",
    "print(f\"Nombre: {influent_player}\")"
   ]
  },
  {
   "cell_type": "markdown",
   "metadata": {},
   "source": [
    "Promedio por partido."
   ]
  },
  {
   "cell_type": "code",
   "execution_count": 111,
   "metadata": {},
   "outputs": [
    {
     "name": "stdout",
     "output_type": "stream",
     "text": [
      "PROMEDIO DE GOLES POR PARTIDO: 2.84\n"
     ]
    }
   ],
   "source": [
    "def match_prom (goals):\n",
    "    return sum(goals) / 25\n",
    "\n",
    "print(\"PROMEDIO DE GOLES POR PARTIDO:\", match_prom(goals))"
   ]
  },
  {
   "cell_type": "markdown",
   "metadata": {},
   "source": [
    "Promedio de goles por partido del goleador."
   ]
  },
  {
   "cell_type": "code",
   "execution_count": 112,
   "metadata": {},
   "outputs": [
    {
     "name": "stdout",
     "output_type": "stream",
     "text": [
      "PROMEDIO DE GOLES POR JUGADOR:\n",
      "Nombre: CAROLINA\n",
      "Promedio: 0.56\n"
     ]
    }
   ],
   "source": [
    "def player_prom (data):\n",
    "    player, goals = max_goals(data)\n",
    "    return player, goals / 25\n",
    "\n",
    "player, prom = player_prom(data)\n",
    "print(\"PROMEDIO DE GOLES POR JUGADOR:\")\n",
    "print(f\"Nombre: {player}\")\n",
    "print(f\"Promedio: {prom}\")"
   ]
  }
 ],
 "metadata": {
  "kernelspec": {
   "display_name": "venv",
   "language": "python",
   "name": "python3"
  },
  "language_info": {
   "codemirror_mode": {
    "name": "ipython",
    "version": 3
   },
   "file_extension": ".py",
   "mimetype": "text/x-python",
   "name": "python",
   "nbconvert_exporter": "python",
   "pygments_lexer": "ipython3",
   "version": "3.11.2"
  }
 },
 "nbformat": 4,
 "nbformat_minor": 2
}
