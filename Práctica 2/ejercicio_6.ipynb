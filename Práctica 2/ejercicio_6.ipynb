{
 "cells": [
  {
   "cell_type": "markdown",
   "metadata": {},
   "source": [
    "**6.** Dada una frase y un string ingresados por teclado (en ese orden), genere una lista de palabras, y sobre ella, informe la cantidad de palabras en las que se encuentra el string. No distingir entre mayúsculas y minúsculas\n",
    " \n",
    "**Ejemplo 1**\n",
    "- Para la frase: \"Tres tristes tigres, tragaban trigo en un trigal, en tres tristes trastos, tragaban trigo tres tristes tigres.\"\n",
    "- Palabra: \"tres\"\n",
    "- Resultado: 3\n",
    " \n",
    "**Ejemplo 2**\n",
    "- Para la frase: \"Tres tristes tigres, tragaban trigo en un trigal, en tres tristes trastos, tragaban trigo tres tristes tigres.\"\n",
    "- Palabra: \"tigres\"\n",
    "- Resultado: 2\n",
    " \n",
    "**Ejemplo 3**\n",
    "- Para la frase: \"Tres tristes tigres, tragaban trigo en un trigal, en tres tristes trastos, tragaban trigo tres tristes tigres.\"\n",
    "- Palabra: \"TRISTES\"\n",
    "- Resultado: 3"
   ]
  }
 ],
 "metadata": {
  "language_info": {
   "name": "python"
  }
 },
 "nbformat": 4,
 "nbformat_minor": 2
}
