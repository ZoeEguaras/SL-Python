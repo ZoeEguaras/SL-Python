{
 "cells": [
  {
   "cell_type": "markdown",
   "metadata": {},
   "source": [
    "**6.** Dada una frase y un string ingresados por teclado (en ese orden), genere una lista de palabras, y sobre ella, informe la cantidad de palabras en las que se encuentra el string. No distingir entre mayúsculas y minúsculas\n",
    " \n",
    "**Ejemplo 1**\n",
    "- Para la frase: \"Tres tristes tigres, tragaban trigo en un trigal, en tres tristes trastos, tragaban trigo tres tristes tigres.\"\n",
    "- Palabra: \"tres\"\n",
    "- Resultado: 3\n",
    " \n",
    "**Ejemplo 2**\n",
    "- Para la frase: \"Tres tristes tigres, tragaban trigo en un trigal, en tres tristes trastos, tragaban trigo tres tristes tigres.\"\n",
    "- Palabra: \"tigres\"\n",
    "- Resultado: 2\n",
    " \n",
    "**Ejemplo 3**\n",
    "- Para la frase: \"Tres tristes tigres, tragaban trigo en un trigal, en tres tristes trastos, tragaban trigo tres tristes tigres.\"\n",
    "- Palabra: \"TRISTES\"\n",
    "- Resultado: 3"
   ]
  },
  {
   "cell_type": "markdown",
   "metadata": {},
   "source": [
    "Creo una lista que contiene las palabras de la frase pero en minuscula y sin signos de puntuación."
   ]
  },
  {
   "cell_type": "code",
   "execution_count": 6,
   "metadata": {},
   "outputs": [],
   "source": [
    "frase = input('Ingrese una frase: ')\n",
    "lista_frase = frase.lower().replace(',', '').replace('.','').split()\n",
    "stri = input('Ingrese un string: ')"
   ]
  },
  {
   "cell_type": "markdown",
   "metadata": {},
   "source": [
    "Inicializo la cantidad de ocurrencias en cero y recorriendo la lista comparo el string con .lower()."
   ]
  },
  {
   "cell_type": "code",
   "execution_count": 7,
   "metadata": {},
   "outputs": [],
   "source": [
    "cantidad = 0\n",
    "\n",
    "for palabra in lista_frase:\n",
    "    if stri.lower() == palabra:\n",
    "        cantidad += 1"
   ]
  },
  {
   "cell_type": "markdown",
   "metadata": {},
   "source": [
    "Imprimo el resultado."
   ]
  },
  {
   "cell_type": "code",
   "execution_count": 8,
   "metadata": {},
   "outputs": [
    {
     "name": "stdout",
     "output_type": "stream",
     "text": [
      "Para la frase: \"hola hola chau, chua\"\n",
      "Palabra: \"chau\"\n",
      "Resultado: 1\n"
     ]
    }
   ],
   "source": [
    "print(f'Para la frase: \"{frase}\"')\n",
    "print(f'Palabra: \"{stri}\"')\n",
    "print(f'Resultado: {cantidad}')"
   ]
  }
 ],
 "metadata": {
  "kernelspec": {
   "display_name": "venv",
   "language": "python",
   "name": "python3"
  },
  "language_info": {
   "codemirror_mode": {
    "name": "ipython",
    "version": 3
   },
   "file_extension": ".py",
   "mimetype": "text/x-python",
   "name": "python",
   "nbconvert_exporter": "python",
   "pygments_lexer": "ipython3",
   "version": "3.11.2"
  }
 },
 "nbformat": 4,
 "nbformat_minor": 2
}
